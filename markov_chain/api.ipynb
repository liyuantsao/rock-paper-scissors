{
 "metadata": {
  "language_info": {
   "codemirror_mode": {
    "name": "ipython",
    "version": 3
   },
   "file_extension": ".py",
   "mimetype": "text/x-python",
   "name": "python",
   "nbconvert_exporter": "python",
   "pygments_lexer": "ipython3",
   "version": "3.6.8-final"
  },
  "orig_nbformat": 2,
  "kernelspec": {
   "name": "python3",
   "display_name": "Python 3.6.8 64-bit",
   "metadata": {
    "interpreter": {
     "hash": "31f2aee4e71d21fbe5cf8b01ff0e069b9275f58929596ceb00d14d90e3e16cd6"
    }
   }
  }
 },
 "nbformat": 4,
 "nbformat_minor": 2,
 "cells": [
  {
   "cell_type": "code",
   "execution_count": 1,
   "metadata": {},
   "outputs": [],
   "source": [
    "import random\n",
    "import itertools"
   ]
  },
  {
   "cell_type": "code",
   "execution_count": 2,
   "metadata": {},
   "outputs": [],
   "source": [
    "class MarkovChain():\n",
    "    def __init__(self, decay=1.0):\n",
    "        self.decay = decay\n",
    "        self.reset()\n",
    "        self.last_state = 'RR'\n",
    "        self.last_pred = ''\n",
    "\n",
    "    def _create_matrix(self, order=1):\n",
    "        def create_keys(order):            \n",
    "            keys = ['R', 'P', 'S']\n",
    "            for i in range((order * 2 - 1)):\n",
    "                key_len = len(keys)\n",
    "                for i in itertools.product(keys, ''.join(keys)):\n",
    "                    keys.append(''.join(i))\n",
    "                keys = keys[key_len:]\n",
    "            return keys\n",
    "\n",
    "        keys = create_keys(order)\n",
    "        matrix = {}\n",
    "        for key in keys:\n",
    "            matrix[key] = {\n",
    "                'R': {\n",
    "                    'prob' : 1 / 3,\n",
    "                    'n_obs' : 0\n",
    "                },\n",
    "                'P': {\n",
    "                    'prob' : 1 / 3,\n",
    "                    'n_obs' : 0\n",
    "                },\n",
    "                'S': {\n",
    "                    'prob' : 1 / 3,\n",
    "                    'n_obs' : 0\n",
    "                }\n",
    "            }\n",
    "        return matrix\n",
    "\n",
    "    def _update_matrix(self, pair, input):\n",
    "        for i in self.matrix[pair]:\n",
    "            self.matrix[pair][i]['n_obs'] = self.decay * self.matrix[pair][i]['n_obs']\n",
    "\n",
    "        self.matrix[pair][input]['n_obs'] = self.matrix[pair][input]['n_obs'] + 1\n",
    "        \n",
    "        n_total = 0\n",
    "        for i in self.matrix[pair]:\n",
    "            n_total += self.matrix[pair][i]['n_obs']\n",
    "            \n",
    "        for i in self.matrix[pair]:\n",
    "            self.matrix[pair][i]['prob'] = self.matrix[pair][i]['n_obs'] / n_total            \n",
    "\n",
    "    def reset(self):\n",
    "        self.matrix = self._create_matrix()\n",
    "\n",
    "    def predict(self):\n",
    "        pair = self.last_state\n",
    "        probs = self.matrix[pair]\n",
    "        \n",
    "\n",
    "        if probs['R']['prob'] == probs['P']['prob'] == probs['S']['prob']:\n",
    "            pred = random.choice(['R', 'P', 'S'])\n",
    "        else:\n",
    "            decision = 'R'\n",
    "            prob = probs['R']['prob']\n",
    "            for i in {'P', 'S'}:\n",
    "                if probs[i]['prob'] > prob:\n",
    "                    prob = probs[i]['prob']\n",
    "                    decision = i\n",
    "            beat = {'R':'P', 'P':'S', 'S':'R'}\n",
    "            pred = beat[decision]\n",
    "        self.last_pred = pred\n",
    "\n",
    "        return {'R':'rock', 'P':'paper', 'S':'scissors'}[pred]\n",
    "    \n",
    "    def update(self, player_rps):\n",
    "        player_rps = {'rock':'R', 'paper':'P', 'scissors':'S'}[player_rps]\n",
    "        self.last_state = player_rps + self.last_pred\n",
    "        self._update_matrix(self.last_state, player_rps)"
   ]
  },
  {
   "cell_type": "code",
   "execution_count": 3,
   "metadata": {},
   "outputs": [],
   "source": [
    "agent = MarkovChain(0.9)"
   ]
  },
  {
   "cell_type": "code",
   "execution_count": 8,
   "metadata": {},
   "outputs": [
    {
     "output_type": "execute_result",
     "data": {
      "text/plain": [
       "'paper'"
      ]
     },
     "metadata": {},
     "execution_count": 8
    }
   ],
   "source": [
    "agent.predict()"
   ]
  },
  {
   "cell_type": "code",
   "execution_count": 10,
   "metadata": {},
   "outputs": [],
   "source": [
    "agent.update('rock')"
   ]
  },
  {
   "cell_type": "code",
   "execution_count": null,
   "metadata": {},
   "outputs": [],
   "source": []
  }
 ]
}