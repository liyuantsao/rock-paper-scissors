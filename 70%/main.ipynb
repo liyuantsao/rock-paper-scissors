{
 "metadata": {
  "language_info": {
   "codemirror_mode": {
    "name": "ipython",
    "version": 3
   },
   "file_extension": ".py",
   "mimetype": "text/x-python",
   "name": "python",
   "nbconvert_exporter": "python",
   "pygments_lexer": "ipython3",
   "version": "3.8.2-final"
  },
  "orig_nbformat": 2,
  "kernelspec": {
   "name": "python3",
   "display_name": "Python 3.8.2 64-bit",
   "metadata": {
    "interpreter": {
     "hash": "31f2aee4e71d21fbe5cf8b01ff0e069b9275f58929596ceb00d14d90e3e16cd6"
    }
   }
  }
 },
 "nbformat": 4,
 "nbformat_minor": 2,
 "cells": [
  {
   "cell_type": "code",
   "execution_count": 1,
   "metadata": {},
   "outputs": [],
   "source": [
    "from __future__ import division\n",
    "import random\n",
    "import itertools\n",
    "\n",
    "beat = {'R': 'P', 'P': 'S', 'S': 'R'}"
   ]
  },
  {
   "cell_type": "code",
   "execution_count": 12,
   "metadata": {},
   "outputs": [],
   "source": [
    "class MarkovChain():\n",
    "    def __init__(self, type, beat, level, memory, score=0, score_mem=0.9):\n",
    "        self.type = type\n",
    "        self.matrix = self.create_matrix(beat, level, memory)\n",
    "        self.memory = memory\n",
    "        self.level = level\n",
    "        self.beat = beat\n",
    "        self.score = score\n",
    "        self.score_mem = score_mem\n",
    "        self.prediction = ''\n",
    "        self.name = 'level: {}, memory: {}'.format(self.level, self.memory)\n",
    "        self.last_updated_key = ''\n",
    "\n",
    "    @staticmethod\n",
    "    def create_matrix(beat, level, memory):\n",
    "        def create_keys(beat, level):\n",
    "            keys = list(beat)\n",
    "\n",
    "            if level > 1:\n",
    "\n",
    "                for i in range(level - 1):\n",
    "                    key_len = len(keys)\n",
    "                    for i in itertools.product(keys, ''.join(beat)):\n",
    "                        keys.append(''.join(i))\n",
    "                    keys = keys[key_len:]\n",
    "\n",
    "            return keys\n",
    "\n",
    "        keys = create_keys(beat, level)\n",
    "\n",
    "        matrix = {}\n",
    "        for key in keys:\n",
    "            matrix[key] = {'R': 1 / (1 - memory) / 3,\n",
    "                           'P': 1 / (1 - memory) / 3,\n",
    "                           'S': 1 / (1 - memory) / 3}\n",
    "                           \n",
    "        return matrix\n",
    "\n",
    "    def update_matrix(self, key_lagged, response):\n",
    "\n",
    "        for key in self.matrix[key_lagged]:\n",
    "            self.matrix[key_lagged][key] = self.memory * self.matrix[key_lagged][key]\n",
    "\n",
    "        self.matrix[key_lagged][response] += 1\n",
    "        self.last_updated_key = key_lagged\n",
    "\n",
    "    def update_score(self, inp, out):\n",
    "\n",
    "        if self.beat[out] == inp:\n",
    "            self.score = self.score * self.score_mem - 1\n",
    "        elif out == inp:\n",
    "            self.score = self.score * self.score_mem\n",
    "        else:\n",
    "            self.score = self.score * self.score_mem + 1\n",
    "\n",
    "    def predict(self, key_current):\n",
    "\n",
    "        probs = self.matrix[key_current]\n",
    "\n",
    "        if max(probs.values()) == min(probs.values()):\n",
    "            self.prediction = random.choice(list(beat.keys()))\n",
    "        else:\n",
    "            self.prediction = max([(i[1], i[0]) for i in probs.items()])[1]\n",
    "\n",
    "        if self.type == 'input_oriented':\n",
    "            return self.prediction\n",
    "        elif self.type == 'output_oriented':\n",
    "            return self.beat[self.prediction]"
   ]
  },
  {
   "cell_type": "code",
   "execution_count": 25,
   "metadata": {},
   "outputs": [],
   "source": [
    "a = MarkovChain('input_oriented', beat, 1, 0.8)"
   ]
  },
  {
   "cell_type": "code",
   "execution_count": 26,
   "metadata": {},
   "outputs": [
    {
     "output_type": "execute_result",
     "data": {
      "text/plain": [
       "{'R': {'R': 1.666666666666667, 'P': 1.666666666666667, 'S': 1.666666666666667},\n",
       " 'P': {'R': 1.666666666666667, 'P': 1.666666666666667, 'S': 1.666666666666667},\n",
       " 'S': {'R': 1.666666666666667, 'P': 1.666666666666667, 'S': 1.666666666666667}}"
      ]
     },
     "metadata": {},
     "execution_count": 26
    }
   ],
   "source": [
    "a.matrix"
   ]
  },
  {
   "cell_type": "code",
   "execution_count": 4,
   "metadata": {},
   "outputs": [],
   "source": [
    "memory = [0.5, 0.6, 0.7, 0.8, 0.9, 0.93, 0.95, 0.97, 0.99]\n",
    "level = [1, 2, 3, 4]"
   ]
  },
  {
   "cell_type": "code",
   "execution_count": 5,
   "metadata": {},
   "outputs": [],
   "source": [
    "models_inp = [MarkovChain('input_oriented', beat, i[0], i[1]) for i in itertools.product(level, memory)]"
   ]
  },
  {
   "cell_type": "code",
   "execution_count": 14,
   "metadata": {},
   "outputs": [
    {
     "output_type": "stream",
     "name": "stdout",
     "text": [
      "(1, 0.5)\n(1, 0.6)\n(1, 0.7)\n(1, 0.8)\n(1, 0.9)\n(1, 0.93)\n(1, 0.95)\n(1, 0.97)\n(1, 0.99)\n(2, 0.5)\n(2, 0.6)\n(2, 0.7)\n(2, 0.8)\n(2, 0.9)\n(2, 0.93)\n(2, 0.95)\n(2, 0.97)\n(2, 0.99)\n(3, 0.5)\n(3, 0.6)\n(3, 0.7)\n(3, 0.8)\n(3, 0.9)\n(3, 0.93)\n(3, 0.95)\n(3, 0.97)\n(3, 0.99)\n(4, 0.5)\n(4, 0.6)\n(4, 0.7)\n(4, 0.8)\n(4, 0.9)\n(4, 0.93)\n(4, 0.95)\n(4, 0.97)\n(4, 0.99)\n"
     ]
    }
   ],
   "source": [
    "for i in itertools.product(level, memory):\n",
    "    print(i)"
   ]
  },
  {
   "cell_type": "code",
   "execution_count": 9,
   "metadata": {},
   "outputs": [],
   "source": [
    "memory = [0.5, 0.6, 0.7, 0.8, 0.9, 0.93, 0.95, 0.97, 0.99]\n",
    "level = [1, 2, 3, 4]\n",
    "ensemble_min_score = [5]\n",
    "\n",
    "models_inp = [MarkovChain('input_oriented', beat, i[0], i[1]) for i in itertools.product(level, memory)]\n",
    "models_out = [MarkovChain('output_oriented', beat, i[0], i[1]) for i in itertools.product(level, memory)]"
   ]
  },
  {
   "cell_type": "code",
   "execution_count": 11,
   "metadata": {},
   "outputs": [
    {
     "output_type": "execute_result",
     "data": {
      "text/plain": [
       "[<__main__.MarkovChain at 0x110ebae80>,\n",
       " <__main__.MarkovChain at 0x110eba8b0>,\n",
       " <__main__.MarkovChain at 0x110ebaaf0>,\n",
       " <__main__.MarkovChain at 0x110eba340>,\n",
       " <__main__.MarkovChain at 0x110ebad60>,\n",
       " <__main__.MarkovChain at 0x110eba190>,\n",
       " <__main__.MarkovChain at 0x110eba370>,\n",
       " <__main__.MarkovChain at 0x110eba730>,\n",
       " <__main__.MarkovChain at 0x110eba310>,\n",
       " <__main__.MarkovChain at 0x111108130>,\n",
       " <__main__.MarkovChain at 0x11101f3d0>,\n",
       " <__main__.MarkovChain at 0x11101fdf0>,\n",
       " <__main__.MarkovChain at 0x110d79340>,\n",
       " <__main__.MarkovChain at 0x11101fc40>,\n",
       " <__main__.MarkovChain at 0x10ff921f0>,\n",
       " <__main__.MarkovChain at 0x10ff922b0>,\n",
       " <__main__.MarkovChain at 0x10ff92280>,\n",
       " <__main__.MarkovChain at 0x10ff922e0>,\n",
       " <__main__.MarkovChain at 0x10ff87280>,\n",
       " <__main__.MarkovChain at 0x10ff87100>,\n",
       " <__main__.MarkovChain at 0x10ff87070>,\n",
       " <__main__.MarkovChain at 0x10ff870d0>,\n",
       " <__main__.MarkovChain at 0x1110a9cd0>,\n",
       " <__main__.MarkovChain at 0x1110a92e0>,\n",
       " <__main__.MarkovChain at 0x1110a9130>,\n",
       " <__main__.MarkovChain at 0x1110a96d0>,\n",
       " <__main__.MarkovChain at 0x111015cd0>,\n",
       " <__main__.MarkovChain at 0x111015d60>,\n",
       " <__main__.MarkovChain at 0x11127ad30>,\n",
       " <__main__.MarkovChain at 0x11127a970>,\n",
       " <__main__.MarkovChain at 0x11127aee0>,\n",
       " <__main__.MarkovChain at 0x11127adc0>,\n",
       " <__main__.MarkovChain at 0x11127ad90>,\n",
       " <__main__.MarkovChain at 0x11127ab80>,\n",
       " <__main__.MarkovChain at 0x11127ad60>,\n",
       " <__main__.MarkovChain at 0x11127acd0>,\n",
       " <__main__.MarkovChain at 0x11127afd0>,\n",
       " <__main__.MarkovChain at 0x11127ac10>,\n",
       " <__main__.MarkovChain at 0x11127af70>,\n",
       " <__main__.MarkovChain at 0x11127afa0>,\n",
       " <__main__.MarkovChain at 0x11127ae50>,\n",
       " <__main__.MarkovChain at 0x11127ae80>,\n",
       " <__main__.MarkovChain at 0x11127a340>,\n",
       " <__main__.MarkovChain at 0x11127a8b0>,\n",
       " <__main__.MarkovChain at 0x11127a280>,\n",
       " <__main__.MarkovChain at 0x11127aa60>,\n",
       " <__main__.MarkovChain at 0x11127a610>,\n",
       " <__main__.MarkovChain at 0x11127a8e0>,\n",
       " <__main__.MarkovChain at 0x11127a880>,\n",
       " <__main__.MarkovChain at 0x11127ab50>,\n",
       " <__main__.MarkovChain at 0x11127abb0>,\n",
       " <__main__.MarkovChain at 0x11127abe0>,\n",
       " <__main__.MarkovChain at 0x11127aac0>,\n",
       " <__main__.MarkovChain at 0x11127aaf0>,\n",
       " <__main__.MarkovChain at 0x11127ab20>,\n",
       " <__main__.MarkovChain at 0x11127aa00>,\n",
       " <__main__.MarkovChain at 0x11127a3a0>,\n",
       " <__main__.MarkovChain at 0x11127a4f0>,\n",
       " <__main__.MarkovChain at 0x11127a370>,\n",
       " <__main__.MarkovChain at 0x11127a6a0>,\n",
       " <__main__.MarkovChain at 0x11127a580>,\n",
       " <__main__.MarkovChain at 0x11127a550>,\n",
       " <__main__.MarkovChain at 0x11127a400>,\n",
       " <__main__.MarkovChain at 0x11127a520>,\n",
       " <__main__.MarkovChain at 0x11127a490>,\n",
       " <__main__.MarkovChain at 0x11127a790>,\n",
       " <__main__.MarkovChain at 0x11127a7f0>,\n",
       " <__main__.MarkovChain at 0x11127a820>,\n",
       " <__main__.MarkovChain at 0x11127a700>,\n",
       " <__main__.MarkovChain at 0x11127a730>,\n",
       " <__main__.MarkovChain at 0x11127a760>,\n",
       " <__main__.MarkovChain at 0x11127a640>]"
      ]
     },
     "metadata": {},
     "execution_count": 11
    }
   ],
   "source": [
    "models_inp + models_out"
   ]
  },
  {
   "cell_type": "code",
   "execution_count": 27,
   "metadata": {},
   "outputs": [],
   "source": [
    "class HistoryColl():\n",
    "    def __init__(self):\n",
    "        self.history = ''\n",
    "\n",
    "    def hist_collector(self, inp, out):\n",
    "        self.history = self.history + inp\n",
    "        self.history = self.history + out\n",
    "        if len(self.history) > 10:\n",
    "            self.history = self.history[-10:]\n",
    "\n",
    "    def create_keys(self, level):\n",
    "        return self.history[-level:]\n",
    "\n",
    "    def create_keys_hist(self, level):\n",
    "        key_hist = self.history[-level - 2:-2]\n",
    "        inp_latest = self.history[-2]\n",
    "        out_latest = self.history[-1]\n",
    "        return key_hist, inp_latest, out_latest"
   ]
  },
  {
   "cell_type": "code",
   "execution_count": 28,
   "metadata": {},
   "outputs": [],
   "source": [
    "h = HistoryColl()"
   ]
  },
  {
   "cell_type": "code",
   "execution_count": 47,
   "metadata": {},
   "outputs": [],
   "source": [
    "h.hist_collector('P', 'R')"
   ]
  },
  {
   "cell_type": "code",
   "execution_count": 45,
   "metadata": {},
   "outputs": [],
   "source": [
    "h.hist_collector('R', 'S')"
   ]
  },
  {
   "cell_type": "code",
   "execution_count": 48,
   "metadata": {},
   "outputs": [
    {
     "output_type": "execute_result",
     "data": {
      "text/plain": [
       "'PRRSPRRSPR'"
      ]
     },
     "metadata": {},
     "execution_count": 48
    }
   ],
   "source": [
    "h.history"
   ]
  },
  {
   "cell_type": "code",
   "execution_count": 53,
   "metadata": {},
   "outputs": [
    {
     "output_type": "execute_result",
     "data": {
      "text/plain": [
       "'PR'"
      ]
     },
     "metadata": {},
     "execution_count": 53
    }
   ],
   "source": [
    "h.create_keys(2)"
   ]
  },
  {
   "cell_type": "code",
   "execution_count": 56,
   "metadata": {},
   "outputs": [
    {
     "output_type": "execute_result",
     "data": {
      "text/plain": [
       "('SPRRS', 'P', 'R')"
      ]
     },
     "metadata": {},
     "execution_count": 56
    }
   ],
   "source": [
    "h.create_keys_hist(5)"
   ]
  },
  {
   "cell_type": "code",
   "execution_count": null,
   "metadata": {},
   "outputs": [],
   "source": []
  }
 ]
}