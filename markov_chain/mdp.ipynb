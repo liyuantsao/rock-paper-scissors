{
 "metadata": {
  "language_info": {
   "codemirror_mode": {
    "name": "ipython",
    "version": 3
   },
   "file_extension": ".py",
   "mimetype": "text/x-python",
   "name": "python",
   "nbconvert_exporter": "python",
   "pygments_lexer": "ipython3",
   "version": "3.8.2-final"
  },
  "orig_nbformat": 2,
  "kernelspec": {
   "name": "python3",
   "display_name": "Python 3.8.2 64-bit",
   "metadata": {
    "interpreter": {
     "hash": "31f2aee4e71d21fbe5cf8b01ff0e069b9275f58929596ceb00d14d90e3e16cd6"
    }
   }
  }
 },
 "nbformat": 4,
 "nbformat_minor": 2,
 "cells": [
  {
   "cell_type": "code",
   "execution_count": 61,
   "metadata": {},
   "outputs": [],
   "source": [
    "from __future__ import division\n",
    "import random\n",
    "import itertools\n",
    "\n",
    "\n",
    "class MarkovChain():\n",
    "    def __init__(self, order, decay=1.0):\n",
    "        self.decay = decay\n",
    "        self.matrix = self.create_matrix(order)\n",
    "\n",
    "    @staticmethod\n",
    "    def create_matrix(order):\n",
    "        def create_keys(order):            \n",
    "            keys = ['R', 'P', 'S']\n",
    "            for i in range((order * 2 - 1)):\n",
    "                key_len = len(keys)\n",
    "                for i in itertools.product(keys, ''.join(keys)):\n",
    "                    keys.append(''.join(i))\n",
    "                keys = keys[key_len:]\n",
    "            return keys\n",
    "\n",
    "        keys = create_keys(order)\n",
    "        matrix = {}\n",
    "        for key in keys:\n",
    "            matrix[key] = {\n",
    "                'R': {\n",
    "                    'prob' : 1 / 3,\n",
    "                    'n_obs' : 0\n",
    "                },\n",
    "                'P': {\n",
    "                    'prob' : 1 / 3,\n",
    "                    'n_obs' : 0\n",
    "                },\n",
    "                'S': {\n",
    "                    'prob' : 1 / 3,\n",
    "                    'n_obs' : 0\n",
    "                }\n",
    "            }\n",
    "\n",
    "        return matrix\n",
    "\n",
    "    def update_matrix(self, pair, input):\n",
    "        \n",
    "        for i in self.matrix[pair]:\n",
    "            self.matrix[pair][i]['n_obs'] = self.decay * self.matrix[pair][i]['n_obs']\n",
    "\n",
    "        self.matrix[pair][input]['n_obs'] = self.matrix[pair][input]['n_obs'] + 1\n",
    "        \n",
    "        n_total = 0\n",
    "        for i in self.matrix[pair]:\n",
    "            n_total += self.matrix[pair][i]['n_obs']\n",
    "            \n",
    "        for i in self.matrix[pair]:\n",
    "            self.matrix[pair][i]['prob'] = self.matrix[pair][i]['n_obs'] / n_total            \n",
    "\n",
    "    def predict(self, pair):\n",
    "\n",
    "        probs = self.matrix[pair]\n",
    "        print(probs['R']['prob'])\n",
    "        # if max(probs.values()) == min(probs.values()):\n",
    "        if probs['R']['prob'] == probs['P']['prob'] == probs['S']['prob']:\n",
    "            return random.choice(['R', 'P', 'S'])\n",
    "        else:\n",
    "            # print(probs['R']['prob'])\n",
    "            decision = 'R'\n",
    "            prob = probs['R']['prob']\n",
    "            for i in {'P', 'S'}:\n",
    "                if probs[i]['prob'] > prob:\n",
    "                    prob = probs[i]['prob']\n",
    "                    decision = i\n",
    "            return decision\n",
    "    \n",
    "markov_model = MarkovChain(1, 0.9)"
   ]
  },
  {
   "cell_type": "code",
   "execution_count": 62,
   "metadata": {},
   "outputs": [
    {
     "output_type": "stream",
     "name": "stdout",
     "text": [
      "0.3333333333333333\n"
     ]
    },
    {
     "output_type": "execute_result",
     "data": {
      "text/plain": [
       "'S'"
      ]
     },
     "metadata": {},
     "execution_count": 62
    }
   ],
   "source": [
    "markov_model.predict('RR')"
   ]
  },
  {
   "cell_type": "code",
   "execution_count": 63,
   "metadata": {},
   "outputs": [],
   "source": [
    "markov_model.update_matrix('RR','P')"
   ]
  },
  {
   "cell_type": "code",
   "execution_count": 64,
   "metadata": {},
   "outputs": [
    {
     "output_type": "stream",
     "name": "stdout",
     "text": [
      "0.0\n"
     ]
    },
    {
     "output_type": "execute_result",
     "data": {
      "text/plain": [
       "'P'"
      ]
     },
     "metadata": {},
     "execution_count": 64
    }
   ],
   "source": [
    "markov_model.predict('RR')"
   ]
  },
  {
   "cell_type": "code",
   "execution_count": 65,
   "metadata": {},
   "outputs": [
    {
     "output_type": "execute_result",
     "data": {
      "text/plain": [
       "{'RR': {'R': {'prob': 0.0, 'n_obs': 0.0},\n",
       "  'P': {'prob': 1.0, 'n_obs': 1.0},\n",
       "  'S': {'prob': 0.0, 'n_obs': 0.0}},\n",
       " 'RP': {'R': {'prob': 0.3333333333333333, 'n_obs': 0},\n",
       "  'P': {'prob': 0.3333333333333333, 'n_obs': 0},\n",
       "  'S': {'prob': 0.3333333333333333, 'n_obs': 0}},\n",
       " 'RS': {'R': {'prob': 0.3333333333333333, 'n_obs': 0},\n",
       "  'P': {'prob': 0.3333333333333333, 'n_obs': 0},\n",
       "  'S': {'prob': 0.3333333333333333, 'n_obs': 0}},\n",
       " 'PR': {'R': {'prob': 0.3333333333333333, 'n_obs': 0},\n",
       "  'P': {'prob': 0.3333333333333333, 'n_obs': 0},\n",
       "  'S': {'prob': 0.3333333333333333, 'n_obs': 0}},\n",
       " 'PP': {'R': {'prob': 0.3333333333333333, 'n_obs': 0},\n",
       "  'P': {'prob': 0.3333333333333333, 'n_obs': 0},\n",
       "  'S': {'prob': 0.3333333333333333, 'n_obs': 0}},\n",
       " 'PS': {'R': {'prob': 0.3333333333333333, 'n_obs': 0},\n",
       "  'P': {'prob': 0.3333333333333333, 'n_obs': 0},\n",
       "  'S': {'prob': 0.3333333333333333, 'n_obs': 0}},\n",
       " 'SR': {'R': {'prob': 0.3333333333333333, 'n_obs': 0},\n",
       "  'P': {'prob': 0.3333333333333333, 'n_obs': 0},\n",
       "  'S': {'prob': 0.3333333333333333, 'n_obs': 0}},\n",
       " 'SP': {'R': {'prob': 0.3333333333333333, 'n_obs': 0},\n",
       "  'P': {'prob': 0.3333333333333333, 'n_obs': 0},\n",
       "  'S': {'prob': 0.3333333333333333, 'n_obs': 0}},\n",
       " 'SS': {'R': {'prob': 0.3333333333333333, 'n_obs': 0},\n",
       "  'P': {'prob': 0.3333333333333333, 'n_obs': 0},\n",
       "  'S': {'prob': 0.3333333333333333, 'n_obs': 0}}}"
      ]
     },
     "metadata": {},
     "execution_count": 65
    }
   ],
   "source": [
    "markov_model.matrix"
   ]
  },
  {
   "cell_type": "code",
   "execution_count": null,
   "metadata": {},
   "outputs": [],
   "source": []
  }
 ]
}